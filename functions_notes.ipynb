{
 "cells": [
  {
   "cell_type": "code",
   "execution_count": null,
   "id": "18386dde",
   "metadata": {},
   "outputs": [],
   "source": [
    "print('The max is: ' + str(max([4, 0, 3, 1])))"
   ]
  },
  {
   "cell_type": "code",
   "execution_count": null,
   "id": "24e54852",
   "metadata": {},
   "outputs": [],
   "source": [
    "def increment(n):\n",
    "    return n + 1\n",
    "\n",
    "six = increment(increment(increment(3)))\n",
    "print(six)"
   ]
  },
  {
   "cell_type": "code",
   "execution_count": null,
   "id": "8342312b",
   "metadata": {},
   "outputs": [],
   "source": [
    "def sayhello():\n",
    "    print('Hey there!')\n",
    "\n",
    "sayhello()"
   ]
  },
  {
   "cell_type": "code",
   "execution_count": null,
   "id": "e36de3bd",
   "metadata": {},
   "outputs": [],
   "source": [
    "name = input(\"What is your first name? \")\n",
    "greeting = \"Hello\"\n",
    "\n",
    "print('{}, {}!'.format(greeting, name))"
   ]
  },
  {
   "cell_type": "code",
   "execution_count": null,
   "id": "2c55ffc1",
   "metadata": {},
   "outputs": [],
   "source": [
    "square = lambda n: n ** 2\n",
    "square()"
   ]
  },
  {
   "cell_type": "code",
   "execution_count": null,
   "id": "9ce77f13",
   "metadata": {},
   "outputs": [],
   "source": [
    "#  1. Define a function named is_two. It should accept \n",
    "#     one input and return True if the passed input \n",
    "#     is either the number or the string 2, False otherwise.\n",
    "\n",
    "def is_two(num):\n",
    "    if isinstance(num, int):\n",
    "        return num == 2\n",
    "    elif num.isdigit():\n",
    "        return int(num) == 2\n",
    "    else:\n",
    "        return False"
   ]
  },
  {
   "cell_type": "code",
   "execution_count": null,
   "id": "4a5f938f",
   "metadata": {},
   "outputs": [],
   "source": [
    "#  2. Define a function named is_vowel. \n",
    "#     It should return True if the passed string \n",
    "#     is a vowel, False otherwise.\n",
    "\n",
    "def is_vowel(vow):\n",
    "    if (0 < len(vow)< 2) and (isinstance(vow, str)):\n",
    "        return vow in ['a','e','i','o','u']\n",
    "    else:\n",
    "        return False\n",
    "input_word = input(\"Enter a vowel: \")\n",
    "is_vowel(input_word)"
   ]
  },
  {
   "cell_type": "code",
   "execution_count": null,
   "id": "0bc6693b",
   "metadata": {
    "scrolled": true
   },
   "outputs": [],
   "source": [
    "#  3. Define a function named is_consonant. \n",
    "#     It should return True if the passed string \n",
    "#     is a consonant, False otherwise. Use your \n",
    "#     is_vowel function to accomplish this.\n",
    "def is_consonant(letter):\n",
    "    if isinstance(letter, str) and (not any(i.isdigit() for i in letter )):\n",
    "        return not is_vowel(letter)\n",
    "    else:\n",
    "        return False\n",
    "\n",
    "input_word = input(\"Enter a consonant: \")\n",
    "is_consonant(input_word)"
   ]
  },
  {
   "cell_type": "code",
   "execution_count": null,
   "id": "995d63ca",
   "metadata": {},
   "outputs": [],
   "source": [
    "#  4. Define a function that accepts a \n",
    "#     string that is a word. The function \n",
    "#     should capitalize the first letter of \n",
    "#     the word if the word starts with a consonant.\n",
    "\n",
    "def title_case(word):\n",
    "    if is_consonant(word):\n",
    "        return word.capitalize()\n",
    "word1=\"snapple\"\n",
    "word2=\"apple\"\n",
    "print(title_case(word1))\n",
    "print(title_case(word2))"
   ]
  },
  {
   "cell_type": "code",
   "execution_count": null,
   "id": "5972fca5",
   "metadata": {},
   "outputs": [],
   "source": [
    "#  5. Define a function named calculate_tip. \n",
    "#     It should accept a tip percentage \n",
    "#     (a number between 0 and 1) and the \n",
    "#     bill total, and return the amount to tip.\n",
    "\n",
    "def calculate_tip(pcent,bill):\n",
    "    if 1 >= pcent >= 0:\n",
    "        return round((pcent*bill),2)\n",
    "\n",
    "calculate_tip(.2, 36.15)"
   ]
  },
  {
   "cell_type": "code",
   "execution_count": null,
   "id": "5d03679e",
   "metadata": {},
   "outputs": [],
   "source": [
    "#  6. Define a function named apply_discount. \n",
    "#     It should accept a original price, and \n",
    "#     a discount percentage, and return the \n",
    "#     price after the discount is applied.\n",
    "\n",
    "def apply_discount(price,percent):\n",
    "    discount=(percent/100)*price\n",
    "    \n",
    "    return round((price - discount) , 2)\n",
    "\n",
    "price=380.00\n",
    "percentage=30\n",
    "apply_discount(price, percentage)"
   ]
  },
  {
   "cell_type": "code",
   "execution_count": null,
   "id": "e4656645",
   "metadata": {},
   "outputs": [],
   "source": [
    "#  7. Define a function named handle_commas. \n",
    "#     It should accept a string that is a \n",
    "#     number that contains commas in it as \n",
    "#     input, and return a number as output.\n",
    "\n",
    "def handle_commas(broken_number):\n",
    "    fixed_number = ''.join([i for i in broken_number if i.isdigit()])\n",
    "    \n",
    "    return fixed_number\n",
    "\n",
    "def add_numbers(num1,num2):\n",
    "    return num1+num2\n",
    "\n",
    "#commas_number = \"2,530,389\"\n",
    "\n",
    "add_numbers(8,3)\n",
    "\n",
    "#handle_commas()"
   ]
  },
  {
   "cell_type": "code",
   "execution_count": null,
   "id": "ac329396",
   "metadata": {},
   "outputs": [],
   "source": [
    "#  8. Define a function named get_letter_grade. \n",
    "#     It should accept a number and return the \n",
    "#     letter grade associated with that number (A-F).\n",
    "\n",
    "def get_letter_grade(num_grd):\n",
    "    if 90 <= num_grd <=100:\n",
    "        return \"A\"\n",
    "    elif 80 <= num_grd <=89:\n",
    "        return \"B\"\n",
    "    elif 70 <= num_grd <=79:\n",
    "        return \"C\"\n",
    "    elif 60 <= num_grd <=69:\n",
    "        return \"D\"\n",
    "    else:\n",
    "        return \"F\"\n",
    "\n",
    "get_letter_grade(60)"
   ]
  },
  {
   "cell_type": "code",
   "execution_count": null,
   "id": "0962e4a9",
   "metadata": {
    "scrolled": true
   },
   "outputs": [],
   "source": [
    "#  9. Define a function named remove_vowels \n",
    "#     that accepts a string and returns a \n",
    "#     string with all the vowels removed.\n",
    "\n",
    "def remove_vowels(word):\n",
    "    return ''.join([i for i in word if i.lower() not in ['a','e','i','o','u']])\n",
    "\n",
    "incoming_word=\"apple\"\n",
    "remove_vowels(incoming_word)"
   ]
  },
  {
   "cell_type": "code",
   "execution_count": null,
   "id": "9956408a",
   "metadata": {},
   "outputs": [],
   "source": [
    "word = \"8track 88track     \"\n",
    "fixed = \"\"\n",
    "\n",
    "for i in word:\n",
    "# Strips all numbers and symbols. Spaces stay. 1 Fell swoop lowercases.\n",
    "    if (i.isalnum() or i == \" \") and not i.isdigit():\n",
    "        fixed+=i.lower()\n",
    "    else:\n",
    "        pass\n",
    "# Strips leading & trailing spaces. Afterwards replaces middle spaces.\n",
    "\n",
    "fixed = fixed.strip().replace(\" \",\"_\")\n",
    "print(fixed)"
   ]
  },
  {
   "cell_type": "code",
   "execution_count": 248,
   "id": "329a16b0",
   "metadata": {},
   "outputs": [
    {
     "data": {
      "text/plain": [
       "'track_track'"
      ]
     },
     "execution_count": 248,
     "metadata": {},
     "output_type": "execute_result"
    }
   ],
   "source": [
    "#  10. Define a function named normalize_name. \n",
    "#     It should accept a string and return a \n",
    "#     valid python identifier, that is:\n",
    "#     - anything that is not a valid python \n",
    "#       identifier should be removed\n",
    "#     - leading and trailing whitespace should be removed\n",
    "#     - everything should be lowercase\n",
    "#     - spaces should be replaced with underscores\n",
    "#     \n",
    "#     for example:\n",
    "#     - Name will become name\n",
    "#     - First Name will become first_name\n",
    "#     - % Completed will become completed\n",
    "\n",
    "def normalize_name(bad_line):\n",
    "    fixed = \"\"\n",
    "\n",
    "    for i in bad_line:\n",
    "        if (i.isalnum() or i == \" \") and not i.isdigit():\n",
    "            fixed+=i.lower()\n",
    "        else:\n",
    "            pass\n",
    "\n",
    "    fixed = fixed.strip().replace(\" \",\"_\")\n",
    "\n",
    "    return fixed\n",
    "\n",
    "normalize_name(\" 88track 88Track.    \")"
   ]
  },
  {
   "cell_type": "code",
   "execution_count": 260,
   "id": "87f585df",
   "metadata": {},
   "outputs": [
    {
     "data": {
      "text/plain": [
       "[1, 1, 1, 1]"
      ]
     },
     "execution_count": 260,
     "metadata": {},
     "output_type": "execute_result"
    }
   ],
   "source": [
    "#     11. Write a function named cumulative_sum \n",
    "#         that accepts a list of numbers and returns \n",
    "#         a list that is the cumulative sum of \n",
    "#         the numbers in the list.\n",
    "#     \n",
    "#         cumulative_sum([1, 1, 1]) returns [1, 2, 3]\n",
    "#         cumulative_sum([1, 2, 3, 4]) returns [1, 3, 6, 10]\n",
    "\n",
    "def cumulative_sum(nums):\n",
    "    def accumu(incoming):\n",
    "    total = 0\n",
    "    for x in lis:\n",
    "        total += x\n",
    "        yield total\n",
    "accumu(nums)\n",
    "return test\n",
    "\n",
    "cumulative_sum([1,2,3,4])"
   ]
  },
  {
   "cell_type": "code",
   "execution_count": null,
   "id": "f1818213",
   "metadata": {},
   "outputs": [],
   "source": [
    "#     B1. Create a function named twelveto24. \n",
    "#         It should accept a string in the \n",
    "#         format 10:45am or 4:30pm and return a \n",
    "#         string that is the representation of the time \n",
    "#         in a 24-hour format. Bonus write a function \n",
    "#         that does the opposite.\n",
    "#     B2. Create a function named col_index. \n",
    "#         It should accept a spreadsheet column \n",
    "#         name, and return the index number of the column.\n",
    "#         col_index('A') returns 1\n",
    "#         col_index('B') returns 2\n",
    "#         col_index('AA') returns 27"
   ]
  }
 ],
 "metadata": {
  "kernelspec": {
   "display_name": "Python 3 (ipykernel)",
   "language": "python",
   "name": "python3"
  },
  "language_info": {
   "codemirror_mode": {
    "name": "ipython",
    "version": 3
   },
   "file_extension": ".py",
   "mimetype": "text/x-python",
   "name": "python",
   "nbconvert_exporter": "python",
   "pygments_lexer": "ipython3",
   "version": "3.9.13"
  }
 },
 "nbformat": 4,
 "nbformat_minor": 5
}
