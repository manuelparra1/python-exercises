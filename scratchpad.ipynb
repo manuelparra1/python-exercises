{
 "cells": [
  {
   "cell_type": "code",
   "execution_count": 22,
   "id": "e6ab9d36",
   "metadata": {},
   "outputs": [],
   "source": [
    "#\n",
    "#\n",
    "#            R   U   N        M   E\n",
    "#\n",
    "#\n",
    "fruits = ['mango', 'kiwi', 'strawberry', 'guava', 'pineapple', 'mandarin orange']\n",
    "\n",
    "numbers = [2, 3, 4, 5, 6, 7, 8, 9, 10, 11, 13, 17, 19, 23, 256, -8, -4, -2, 5, -9]"
   ]
  },
  {
   "cell_type": "code",
   "execution_count": 16,
   "id": "f679ad1f",
   "metadata": {},
   "outputs": [],
   "source": [
    "# Example for loop solution to add 1 to each number in the list\n",
    "numbers_plus_one = []\n",
    "for number in numbers:\n",
    "    numbers_plus_one.append(number + 1)"
   ]
  },
  {
   "cell_type": "code",
   "execution_count": 17,
   "id": "d4c37787",
   "metadata": {},
   "outputs": [
    {
     "name": "stdout",
     "output_type": "stream",
     "text": [
      "[3, 4, 5, 6, 7, 8, 9, 10, 11, 12, 14, 18, 20, 24, 257, -7, -3, -1, 6, -8]\n"
     ]
    }
   ],
   "source": [
    "print(numbers_plus_one)"
   ]
  },
  {
   "cell_type": "code",
   "execution_count": 18,
   "id": "9d4a608b",
   "metadata": {},
   "outputs": [],
   "source": [
    "# Example of using a list comprehension to create a list of the numbers plus one.\n",
    "numbers_plus_one = [number + 1 for number in numbers]"
   ]
  },
  {
   "cell_type": "code",
   "execution_count": 19,
   "id": "1d9f2e75",
   "metadata": {},
   "outputs": [
    {
     "name": "stdout",
     "output_type": "stream",
     "text": [
      "[3, 4, 5, 6, 7, 8, 9, 10, 11, 12, 14, 18, 20, 24, 257, -7, -3, -1, 6, -8]\n"
     ]
    }
   ],
   "source": [
    "print(numbers_plus_one)"
   ]
  },
  {
   "cell_type": "code",
   "execution_count": 21,
   "id": "c41911e0",
   "metadata": {},
   "outputs": [
    {
     "name": "stdout",
     "output_type": "stream",
     "text": [
      "['MANGO', 'KIWI', 'STRAWBERRY', 'GUAVA', 'PINEAPPLE', 'MANDARIN ORANGE']\n"
     ]
    }
   ],
   "source": [
    "output = []\n",
    "for fruit in fruits:\n",
    "    output.append(fruit.upper())\n",
    "print(output)"
   ]
  },
  {
   "cell_type": "code",
   "execution_count": 25,
   "id": "44c34f03",
   "metadata": {},
   "outputs": [
    {
     "name": "stdout",
     "output_type": "stream",
     "text": [
      "[None, None, None, None, None, None]\n"
     ]
    }
   ],
   "source": [
    "# Exercise 1 - rewrite the above example code \n",
    "# using list comprehension syntax. Make a variable\n",
    "# named uppercased_fruits to hold the output of the \n",
    "# list comprehension. Output should be ['MANGO', 'KIWI', etc...]\n",
    "output = []\n",
    "[output.append(fruit.upper()) for fruit in fruits]\n",
    "print(output)"
   ]
  },
  {
   "cell_type": "code",
   "execution_count": null,
   "id": "8a21b721",
   "metadata": {},
   "outputs": [],
   "source": [
    "\n",
    "# Exercise 2 - create a variable named capitalized_fruits and use list comprehension syntax to produce output like ['Mango', 'Kiwi', 'Strawberry', etc...]\n",
    "\n",
    "# Exercise 3 - Use a list comprehension to make a variable named fruits_with_more_than_two_vowels. Hint: You'll need a way to check if something is a vowel.\n",
    "\n",
    "# Exercise 4 - make a variable named fruits_with_only_two_vowels. The result should be ['mango', 'kiwi', 'strawberry']\n",
    "\n",
    "# Exercise 5 - make a list that contains each fruit with more than 5 characters\n",
    "\n",
    "# Exercise 6 - make a list that contains each fruit with exactly 5 characters\n",
    "\n",
    "# Exercise 7 - Make a list that contains fruits that have less than 5 characters\n",
    "\n",
    "# Exercise 8 - Make a list containing the number of characters in each fruit. Output would be [5, 4, 10, etc... ]\n",
    "\n",
    "# Exercise 9 - Make a variable named fruits_with_letter_a that contains a list of only the fruits that contain the letter \"a\"\n",
    "\n",
    "# Exercise 10 - Make a variable named even_numbers that holds only the even numbers \n",
    "\n",
    "# Exercise 11 - Make a variable named odd_numbers that holds only the odd numbers\n",
    "\n",
    "# Exercise 12 - Make a variable named positive_numbers that holds only the positive numbers\n",
    "\n",
    "# Exercise 13 - Make a variable named negative_numbers that holds only the negative numbers\n",
    "\n",
    "# Exercise 14 - use a list comprehension w/ a conditional in order to produce a list of numbers with 2 or more numerals\n",
    "\n",
    "# Exercise 15 - Make a variable named numbers_squared that contains the numbers list with each element squared. Output is [4, 9, 16, etc...]\n",
    "\n",
    "# Exercise 16 - Make a variable named odd_negative_numbers that contains only the numbers that are both odd and negative.\n",
    "\n",
    "# Exercise 17 - Make a variable named numbers_plus_5. In it, return a list containing each number plus five. \n",
    "\n",
    "# BONUS Make a variable named \"primes\" that is a list containing the prime numbers in the numbers list. *Hint* you may want to make or find a helper function that determines if a given number is prime or not."
   ]
  },
  {
   "cell_type": "code",
   "execution_count": 41,
   "id": "e1baed15",
   "metadata": {},
   "outputs": [
    {
     "data": {
      "text/plain": [
       "7420"
      ]
     },
     "execution_count": 41,
     "metadata": {},
     "output_type": "execute_result"
    }
   ],
   "source": [
    "def print_pay_total(rate, hours):\n",
    "    return (rate*hours)\n",
    "\n",
    "google_pay_rate = 400\n",
    "amazon_pay_rate = 380\n",
    "facebook_pay_rate = 350\n",
    "\n",
    "print_pay_total(facebook_pay_rate, 10)+print_pay_total(google_pay_rate, 6)+print_pay_total(amazon_pay_rate, 4)"
   ]
  },
  {
   "cell_type": "code",
   "execution_count": 43,
   "id": "a9c05ec8",
   "metadata": {},
   "outputs": [
    {
     "name": "stdout",
     "output_type": "stream",
     "text": [
      "password test\n",
      "True\n",
      "username test\n",
      "True\n",
      "Not same check\n",
      "True\n",
      "White Space Check\n",
      "False\n"
     ]
    }
   ],
   "source": [
    "#-----------------------------------------------------------\n",
    "username = 'codeup'\n",
    "password = 'notastrongpassword '\n",
    "#-----------------------------------------------------------\n",
    "#the password must be at least 5 characters\n",
    "\n",
    "password_size = len(password) >= 5\n",
    "print(\"password test\")\n",
    "print(password_size)\n",
    "\n",
    "#the username must be no more than 20 characters\n",
    "\n",
    "username_size = len(username) <= 20\n",
    "print(\"username test\")\n",
    "print(username_size)\n",
    "\n",
    "#the password must not be the same as the username\n",
    "print(\"Not same check\")\n",
    "not_same_check = username != password\n",
    "print(not_same_check)\n",
    "\n",
    "#bonus neither the username or password can start or end with whitespace\n",
    "\n",
    "print(\"White Space Check\")\n",
    "def white_space_check(user_name, pass_word):\n",
    "    if (user_name.startswith(\" \") or user_name.endswith(\" \") or pass_word.startswith(\" \") or user_name.endswith(\" \")):\n",
    "        return True\n",
    "    else:\n",
    "        return False\n",
    "print(white_space_check(username, password))"
   ]
  }
 ],
 "metadata": {
  "kernelspec": {
   "display_name": "Python 3 (ipykernel)",
   "language": "python",
   "name": "python3"
  },
  "language_info": {
   "codemirror_mode": {
    "name": "ipython",
    "version": 3
   },
   "file_extension": ".py",
   "mimetype": "text/x-python",
   "name": "python",
   "nbconvert_exporter": "python",
   "pygments_lexer": "ipython3",
   "version": "3.9.13"
  }
 },
 "nbformat": 4,
 "nbformat_minor": 5
}
