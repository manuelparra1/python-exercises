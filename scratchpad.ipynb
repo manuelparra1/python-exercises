{
 "cells": [
  {
   "cell_type": "code",
   "execution_count": null,
   "id": "e6ab9d36",
   "metadata": {},
   "outputs": [],
   "source": [
    "#\n",
    "#\n",
    "#            R   U   N        M   E\n",
    "#\n",
    "#\n",
    "fruits = ['mango', 'kiwi', 'strawberry', 'guava', 'pineapple', 'mandarin orange']\n",
    "\n",
    "numbers = [2, 3, 4, 5, 6, 7, 8, 9, 10, 11, 13, 17, 19, 23, 256, -8, -4, -2, 5, -9]"
   ]
  },
  {
   "cell_type": "code",
   "execution_count": null,
   "id": "f679ad1f",
   "metadata": {},
   "outputs": [],
   "source": [
    "# Example for loop solution to add 1 to each number in the list\n",
    "numbers_plus_one = []\n",
    "for number in numbers:\n",
    "    numbers_plus_one.append(number + 1)"
   ]
  },
  {
   "cell_type": "code",
   "execution_count": null,
   "id": "d4c37787",
   "metadata": {},
   "outputs": [],
   "source": [
    "print(numbers_plus_one)"
   ]
  },
  {
   "cell_type": "code",
   "execution_count": null,
   "id": "9d4a608b",
   "metadata": {},
   "outputs": [],
   "source": [
    "# Example of using a list comprehension to create a list of the numbers plus one.\n",
    "numbers_plus_one = [number + 1 for number in numbers]"
   ]
  },
  {
   "cell_type": "code",
   "execution_count": null,
   "id": "1d9f2e75",
   "metadata": {},
   "outputs": [],
   "source": [
    "print(numbers_plus_one)"
   ]
  },
  {
   "cell_type": "code",
   "execution_count": null,
   "id": "c41911e0",
   "metadata": {},
   "outputs": [],
   "source": [
    "output = []\n",
    "for fruit in fruits:\n",
    "    output.append(fruit.upper())\n",
    "print(output)"
   ]
  },
  {
   "cell_type": "code",
   "execution_count": null,
   "id": "44c34f03",
   "metadata": {},
   "outputs": [],
   "source": [
    "# Exercise 1 - rewrite the above example code \n",
    "# using list comprehension syntax. Make a variable\n",
    "# named uppercased_fruits to hold the output of the \n",
    "# list comprehension. Output should be ['MANGO', 'KIWI', etc...]\n",
    "output = []\n",
    "[output.append(fruit.upper()) for fruit in fruits]\n",
    "print(output)"
   ]
  },
  {
   "cell_type": "code",
   "execution_count": null,
   "id": "573cf6df",
   "metadata": {},
   "outputs": [],
   "source": [
    "# Exercise 2 - create a variable named capitalized_fruits and use list comprehension syntax to produce output like ['Mango', 'Kiwi', 'Strawberry', etc...]\n"
   ]
  },
  {
   "cell_type": "code",
   "execution_count": null,
   "id": "8a21b721",
   "metadata": {},
   "outputs": [],
   "source": [
    "\n",
    "\n",
    "# Exercise 3 - Use a list comprehension to make a variable named fruits_with_more_than_two_vowels. Hint: You'll need a way to check if something is a vowel.\n",
    "\n",
    "# Exercise 4 - make a variable named fruits_with_only_two_vowels. The result should be ['mango', 'kiwi', 'strawberry']\n",
    "\n",
    "# Exercise 5 - make a list that contains each fruit with more than 5 characters\n",
    "\n",
    "# Exercise 6 - make a list that contains each fruit with exactly 5 characters\n",
    "\n",
    "# Exercise 7 - Make a list that contains fruits that have less than 5 characters\n",
    "\n",
    "# Exercise 8 - Make a list containing the number of characters in each fruit. Output would be [5, 4, 10, etc... ]\n",
    "\n",
    "# Exercise 9 - Make a variable named fruits_with_letter_a that contains a list of only the fruits that contain the letter \"a\"\n",
    "\n",
    "# Exercise 10 - Make a variable named even_numbers that holds only the even numbers \n",
    "\n",
    "# Exercise 11 - Make a variable named odd_numbers that holds only the odd numbers\n",
    "\n",
    "# Exercise 12 - Make a variable named positive_numbers that holds only the positive numbers\n",
    "\n",
    "# Exercise 13 - Make a variable named negative_numbers that holds only the negative numbers\n",
    "\n",
    "# Exercise 14 - use a list comprehension w/ a conditional in order to produce a list of numbers with 2 or more numerals\n",
    "\n",
    "# Exercise 15 - Make a variable named numbers_squared that contains the numbers list with each element squared. Output is [4, 9, 16, etc...]\n",
    "\n",
    "# Exercise 16 - Make a variable named odd_negative_numbers that contains only the numbers that are both odd and negative.\n",
    "\n",
    "# Exercise 17 - Make a variable named numbers_plus_5. In it, return a list containing each number plus five. \n",
    "\n",
    "# BONUS Make a variable named \"primes\" that is a list containing the prime numbers in the numbers list. *Hint* you may want to make or find a helper function that determines if a given number is prime or not."
   ]
  },
  {
   "cell_type": "code",
   "execution_count": null,
   "id": "e1baed15",
   "metadata": {},
   "outputs": [],
   "source": [
    "def print_pay_total(rate, hours):\n",
    "    return (rate*hours)\n",
    "\n",
    "google_pay_rate = 400\n",
    "amazon_pay_rate = 380\n",
    "facebook_pay_rate = 350\n",
    "\n",
    "print_pay_total(facebook_pay_rate, 10)+print_pay_total(google_pay_rate, 6)+print_pay_total(amazon_pay_rate, 4)"
   ]
  },
  {
   "cell_type": "code",
   "execution_count": null,
   "id": "a9c05ec8",
   "metadata": {},
   "outputs": [],
   "source": [
    "#-----------------------------------------------------------\n",
    "username = 'codeup'\n",
    "password = 'notastrongpassword '\n",
    "#-----------------------------------------------------------\n",
    "#the password must be at least 5 characters\n",
    "\n",
    "password_size = len(password) >= 5\n",
    "print(\"password test\")\n",
    "print(password_size)\n",
    "\n",
    "#the username must be no more than 20 characters\n",
    "\n",
    "username_size = len(username) <= 20\n",
    "print(\"username test\")\n",
    "print(username_size)\n",
    "\n",
    "#the password must not be the same as the username\n",
    "print(\"Not same check\")\n",
    "not_same_check = username != password\n",
    "print(not_same_check)\n",
    "\n",
    "#bonus neither the username or password can start or end with whitespace\n",
    "\n",
    "print(\"White Space Check\")\n",
    "def white_space_check(user_name, pass_word):\n",
    "    if (user_name.startswith(\" \") or user_name.endswith(\" \") or pass_word.startswith(\" \") or user_name.endswith(\" \")):\n",
    "        return True\n",
    "    else:\n",
    "        return False\n",
    "print(white_space_check(username, password))"
   ]
  },
  {
   "cell_type": "code",
   "execution_count": null,
   "id": "435f4cd3",
   "metadata": {},
   "outputs": [],
   "source": [
    "print('What day of the week is it?')\n",
    "day = input()\n",
    "\n",
    "if day.lower() in ['saturday','sunday']:\n",
    "    print(\"Weekend baby!\")\n",
    "else:\n",
    "    print(\"Back to the grind...\")"
   ]
  },
  {
   "cell_type": "code",
   "execution_count": null,
   "id": "eb32ab44",
   "metadata": {},
   "outputs": [],
   "source": [
    "#  2. Loop Basics\n",
    "#     a.  While\n",
    "#         I. Create an integer variable i with a value of 5.\n",
    "i=5\n",
    "#         II. Create a while loop that runs so long as i is less than or equal to 15\n",
    "while i <= 15:\n",
    "#         III. Each loop iteration, output the current value of i, then increment i by one.\n",
    "    print(i)\n",
    "    i+=1"
   ]
  },
  {
   "cell_type": "code",
   "execution_count": null,
   "id": "f015741f",
   "metadata": {},
   "outputs": [],
   "source": [
    "while i <= 100:\n",
    "    print(str(i)+\"\\n\")\n",
    "    i+=2"
   ]
  },
  {
   "cell_type": "code",
   "execution_count": null,
   "id": "75f31e3a",
   "metadata": {},
   "outputs": [],
   "source": [
    "i=100\n",
    "while i >= -10:\n",
    "    print(str(i)+\"\\n\")\n",
    "    i-=5"
   ]
  },
  {
   "cell_type": "code",
   "execution_count": null,
   "id": "1ab2be52",
   "metadata": {},
   "outputs": [],
   "source": []
  },
  {
   "cell_type": "code",
   "execution_count": null,
   "id": "9436aee1",
   "metadata": {},
   "outputs": [],
   "source": [
    "genre_in=input(\"Enter a genre: \")\n",
    "print(\"\\n\")\n",
    "for index in range(len(books)):\n",
    "    if (books[index][\"genre\"].lower().strip()) == genre_in.lower.strip():\n",
    "        for key in books[index]:\n",
    "            print(books[index][key])"
   ]
  },
  {
   "cell_type": "code",
   "execution_count": null,
   "id": "f863ea70",
   "metadata": {},
   "outputs": [],
   "source": [
    "string genre_in=input(\"Enter a genre: \")\n",
    "print(genre_in.lower.strip())"
   ]
  },
  {
   "cell_type": "code",
   "execution_count": null,
   "id": "3e0fd90c",
   "metadata": {},
   "outputs": [],
   "source": [
    "# M Y  V E R S I O N\n",
    "#\n",
    "i=1\n",
    "while i < 50:\n",
    "    print(\"Enter a positive + odd number between 1 & 50: \")\n",
    "    num_input = input()\n",
    "    \n",
    "    if (num_input.isdigit and (int(num_input)%2)>0) and (1 < int(num_input) < 50):\n",
    "        print(\"correct number!\")\n",
    "    else:\n",
    "        print(\"\")\n",
    "        continue\n",
    "    \n",
    "    if i == int(num_input):\n",
    "        print(\"Yikes! Skipping number: \" + num_input)\n",
    "        i+=1\n",
    "        continue\n",
    "    print(i)\n",
    "    i+=1"
   ]
  },
  {
   "cell_type": "code",
   "execution_count": 182,
   "id": "aa210186",
   "metadata": {},
   "outputs": [
    {
     "name": "stdout",
     "output_type": "stream",
     "text": [
      "Enter a positive + odd number between 1 & 50: 5\n",
      "1\n",
      "3\n",
      "7\n",
      "9\n",
      "11\n",
      "13\n",
      "15\n",
      "17\n",
      "19\n",
      "21\n",
      "23\n",
      "25\n",
      "27\n",
      "29\n",
      "31\n",
      "33\n",
      "35\n",
      "37\n",
      "39\n",
      "41\n",
      "43\n",
      "45\n",
      "47\n",
      "49\n"
     ]
    }
   ],
   "source": [
    "# 2. C. III.\n",
    "while True:\n",
    "    your_num = input(\"Enter a positive + odd number between 1 & 50: \")\n",
    "    if your_num.isdigit() and int(your_num) % 2 == 1:\n",
    "        break\n",
    "        # goes straight to the eles:\n",
    "    else:\n",
    "        print('Invalid')\n",
    "counter = 1\n",
    "while counter < 50:\n",
    "        if counter == int(your_num):\n",
    "            counter += 2\n",
    "            continue\n",
    "        else:\n",
    "            print(counter)\n",
    "            counter +=2"
   ]
  },
  {
   "cell_type": "code",
   "execution_count": 183,
   "id": "b5667148",
   "metadata": {},
   "outputs": [
    {
     "name": "stdout",
     "output_type": "stream",
     "text": [
      "1\n",
      "2\n",
      "Fizz\n",
      "4\n",
      "Buzz\n",
      "Fizz\n",
      "7\n",
      "8\n",
      "Fizz\n",
      "Buzz\n",
      "11\n",
      "Fizz\n",
      "13\n",
      "14\n",
      "FizzBuzz\n",
      "16\n",
      "17\n",
      "Fizz\n",
      "19\n",
      "Buzz\n",
      "Fizz\n",
      "22\n",
      "23\n",
      "Fizz\n",
      "Buzz\n",
      "26\n",
      "Fizz\n",
      "28\n",
      "29\n",
      "FizzBuzz\n",
      "31\n",
      "32\n",
      "Fizz\n",
      "34\n",
      "Buzz\n",
      "Fizz\n",
      "37\n",
      "38\n",
      "Fizz\n",
      "Buzz\n",
      "41\n",
      "Fizz\n",
      "43\n",
      "44\n",
      "FizzBuzz\n",
      "46\n",
      "47\n",
      "Fizz\n",
      "49\n",
      "Buzz\n",
      "Fizz\n",
      "52\n",
      "53\n",
      "Fizz\n",
      "Buzz\n",
      "56\n",
      "Fizz\n",
      "58\n",
      "59\n",
      "FizzBuzz\n",
      "61\n",
      "62\n",
      "Fizz\n",
      "64\n",
      "Buzz\n",
      "Fizz\n",
      "67\n",
      "68\n",
      "Fizz\n",
      "Buzz\n",
      "71\n",
      "Fizz\n",
      "73\n",
      "74\n",
      "FizzBuzz\n",
      "76\n",
      "77\n",
      "Fizz\n",
      "79\n",
      "Buzz\n",
      "Fizz\n",
      "82\n",
      "83\n",
      "Fizz\n",
      "Buzz\n",
      "86\n",
      "Fizz\n",
      "88\n",
      "89\n",
      "FizzBuzz\n",
      "91\n",
      "92\n",
      "Fizz\n",
      "94\n",
      "Buzz\n",
      "Fizz\n",
      "97\n",
      "98\n",
      "Fizz\n",
      "Buzz\n"
     ]
    }
   ],
   "source": [
    "i=1\n",
    "while i<=100:\n",
    "    if (i%3==0 and i%5==0):\n",
    "        print(\"FizzBuzz\")\n",
    "        i+=1\n",
    "        continue\n",
    "    elif i%3==0:\n",
    "        print(\"Fizz\")\n",
    "        i+=1\n",
    "        continue\n",
    "    elif i%5==0:\n",
    "        print(\"Buzz\")\n",
    "        i+=1\n",
    "        continue\n",
    "    print(i)\n",
    "    i+=1"
   ]
  },
  {
   "cell_type": "code",
   "execution_count": 184,
   "id": "4119944e",
   "metadata": {},
   "outputs": [
    {
     "name": "stdout",
     "output_type": "stream",
     "text": [
      "Enter an interger:\n",
      "3\n",
      "number | squared | cubed \n",
      "--------------------------\n",
      "     1 |       1 |      1\n",
      "     2 |       4 |      8\n",
      "     3 |       9 |     27\n"
     ]
    }
   ],
   "source": [
    "print(\"Enter an interger:\")\n",
    "num_in = int(input())\n",
    "\n",
    "column1=\"number\"\n",
    "column2=\"squared\"\n",
    "column3=\"cubed\"\n",
    "\n",
    "print(f\"{column1:5} | {column2:5} | {column3:6}\")\n",
    "print(\"-\"*26)\n",
    "i=1\n",
    "while i<=num_in:\n",
    "    squ=i**2\n",
    "    cub=i**3\n",
    "    \n",
    "    print(f\"{i:6} | {squ:7} | {cub:6}\")\n",
    "    i+=1"
   ]
  },
  {
   "cell_type": "code",
   "execution_count": null,
   "id": "72ef2869",
   "metadata": {},
   "outputs": [],
   "source": [
    "your_input = input(\"Quit: Y/N?\")\n",
    "if your_input.lower().strip()==\"n\":\n",
    "    break"
   ]
  },
  {
   "cell_type": "markdown",
   "id": "f8259490",
   "metadata": {},
   "source": [
    "# while True:\n",
    "### loops\n",
    "#### research later"
   ]
  },
  {
   "cell_type": "code",
   "execution_count": 190,
   "id": "f7d40179",
   "metadata": {},
   "outputs": [
    {
     "name": "stdout",
     "output_type": "stream",
     "text": [
      "Enter a genre: scifi\n",
      "\n",
      "\n"
     ]
    }
   ],
   "source": [
    "books = [{\"title\":\"First 20 Minutes\",\"author\":\"Gretchen Reynolds\",\"genre\":\"Non-Fiction\"},\n",
    "         {\"title\":\"Harry Potter\",\"author\":\"J.K. Rowling\",\"genre\":\"Fiction\"},\n",
    "         {\"title\":\"Variable Star\",\"author\":\"Robert A. Heinlein\",\"genre\":\"Sci-Fi\"}]\n",
    "\n",
    "genre_in=input(\"Enter a genre: \")\n",
    "\n",
    "print(\"\\n\")\n",
    "\n",
    "for index in range(len(books)):\n",
    "    \n",
    "    if (books[index][\"genre\"].lower().strip) == genre_in.lower().strip():\n",
    "        print(type(genre_in))\n",
    "        \n",
    "        for key in books[index]:\n",
    "            print(books[index][key])"
   ]
  },
  {
   "cell_type": "code",
   "execution_count": null,
   "id": "a6833f52",
   "metadata": {},
   "outputs": [],
   "source": [
    "broken_number = \"$200,000.00\"\n",
    "\n",
    "filter_dollars = ''.join([i for i in broken_number if (i.isdigit() or i == \".\")])\n",
    "print(filter_dollars)\n",
    "\n",
    "filter_dollars = float(filter_dollars)\n",
    "\n",
    "print(filter_dollars)"
   ]
  }
 ],
 "metadata": {
  "kernelspec": {
   "display_name": "Python 3 (ipykernel)",
   "language": "python",
   "name": "python3"
  },
  "language_info": {
   "codemirror_mode": {
    "name": "ipython",
    "version": 3
   },
   "file_extension": ".py",
   "mimetype": "text/x-python",
   "name": "python",
   "nbconvert_exporter": "python",
   "pygments_lexer": "ipython3",
   "version": "3.9.13"
  }
 },
 "nbformat": 4,
 "nbformat_minor": 5
}
