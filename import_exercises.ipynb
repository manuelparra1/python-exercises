{
 "cells": [
  {
   "cell_type": "code",
   "execution_count": null,
   "id": "abcbe682",
   "metadata": {},
   "outputs": [],
   "source": [
    "from function_exercises import calculate_tip"
   ]
  },
  {
   "cell_type": "code",
   "execution_count": null,
   "id": "daeff5f7",
   "metadata": {},
   "outputs": [],
   "source": [
    "calculate_tip(.2, 36.15)"
   ]
  },
  {
   "cell_type": "code",
   "execution_count": null,
   "id": "27c03c79",
   "metadata": {},
   "outputs": [],
   "source": [
    "from function_exercises import get_letter_grade as glg"
   ]
  },
  {
   "cell_type": "code",
   "execution_count": null,
   "id": "2c2e576e",
   "metadata": {},
   "outputs": [],
   "source": [
    "glg(89)"
   ]
  },
  {
   "cell_type": "code",
   "execution_count": null,
   "id": "ec3d3179",
   "metadata": {},
   "outputs": [],
   "source": [
    "import itertools as it\n",
    "#     2a. How many different ways can you combine the letters \n",
    "#         from \"abc\" with the numbers 1, 2, and 3?\n",
    "\n",
    "#from itertools import permutations\n",
    "#from itertools import combinations\n",
    "import itertools\n",
    "\n",
    "letters =\"abc\"\n",
    "numbers =\"123\"\n",
    "\n",
    "test1=it.product(letters, numbers)\n",
    "\n",
    "print(\"Combinations of a,b,c with 1,2,3\")\n",
    "for x in test1:\n",
    "    print(x)\n",
    "\n",
    "print(\"\\n\")\n",
    "#temp = permutations(letters,len(numbers))\n",
    "#unique_letters = [''.join(i) for i in temp]\n",
    "#unique_combinations = []\n",
    "\n",
    "#for combinations in unique_letters:\n",
    "#    zipped = zip(combinations, numbers)\n",
    "#    unique_combinations.append(list(zipped))\n",
    "\n",
    "#print(unique_letters)\n",
    "\n",
    "#for f in unique_combinations:\n",
    "#    print(f)\n",
    "    \n",
    "#     2b. How many different combinations are \n",
    "#         there of 2 letters from \"abcd\"?\n",
    "test2=it.combinations('abcd',2)\n",
    "print(\"Combinations\")\n",
    "for x in test2:\n",
    "    print(x)\n",
    "\n",
    "print(\"\\n\")\n"
   ]
  },
  {
   "cell_type": "code",
   "execution_count": null,
   "id": "63e8e09f",
   "metadata": {},
   "outputs": [],
   "source": [
    "#     2b. How many different permutations are \n",
    "#         there of 2 letters from \"abcd\"?\n",
    "\n",
    "letter_list = ['a','b','c','d']\n",
    "letter_list2 = 'abcd'\n",
    "\n",
    "test3=it.permutations('abcd',2)\n",
    "print(\"Permutations\")\n",
    "for x in test3:\n",
    "    print(x)"
   ]
  },
  {
   "cell_type": "code",
   "execution_count": null,
   "id": "bc515490",
   "metadata": {},
   "outputs": [],
   "source": [
    "import json\n",
    "#json.load(open('profiles.json'))\n",
    "\n",
    "json_file=json.load(open('profiles.json'))"
   ]
  },
  {
   "cell_type": "code",
   "execution_count": 227,
   "id": "3e3c7ce1",
   "metadata": {},
   "outputs": [
    {
     "name": "stdout",
     "output_type": "stream",
     "text": [
      "19\n"
     ]
    }
   ],
   "source": [
    "#     3a. Total number of users\n",
    "#for f,g in enumerate(json_file):\n",
    "#    print(json_file[f]['guid'])\n",
    "\n",
    "print(len(json_file))"
   ]
  },
  {
   "cell_type": "code",
   "execution_count": 231,
   "id": "089131f8",
   "metadata": {},
   "outputs": [
    {
     "name": "stdout",
     "output_type": "stream",
     "text": [
      "Active Users\n",
      "9\n"
     ]
    }
   ],
   "source": [
    "#     3b. Number of active users\n",
    "\n",
    "counters=0\n",
    "\n",
    "for f,g in enumerate(json_file):\n",
    "    if json_file[f]['isActive'] is True:\n",
    "        counters+=1\n",
    "\n",
    "print(\"Active Users\")\n",
    "print(counters)"
   ]
  },
  {
   "cell_type": "code",
   "execution_count": null,
   "id": "5b8adaa9",
   "metadata": {},
   "outputs": [],
   "source": [
    "#     3c. Number of inactive users\n",
    "\n",
    "counter=0\n",
    "\n",
    "for f,g in enumerate(json_file):\n",
    "    if json_file[f]['isActive'] is False:\n",
    "        counter+=1\n",
    "        \n",
    "print(\"Inactive Users\")\n",
    "print(counter)"
   ]
  },
  {
   "cell_type": "code",
   "execution_count": 235,
   "id": "97073f43",
   "metadata": {},
   "outputs": [
    {
     "name": "stdout",
     "output_type": "stream",
     "text": [
      "\n",
      "\n",
      "Balance\n",
      "52667.02\n"
     ]
    }
   ],
   "source": [
    "#     3d. Grand total of balances for all users\n",
    "\n",
    "def no_commas(broken_number):\n",
    "    fixed_number = ''.join([i for i in broken_number if (i.isdigit())])\n",
    "\n",
    "    return float(fixed_number)/100\n",
    "\n",
    "counter=0\n",
    "for f,g in enumerate(json_file):\n",
    "    counter+=no_commas(json_file[f]['balance'])\n",
    "\n",
    "print(\"\\n\")\n",
    "print(\"Balance\")\n",
    "print(counter)"
   ]
  },
  {
   "cell_type": "code",
   "execution_count": 236,
   "id": "dca48620",
   "metadata": {},
   "outputs": [
    {
     "name": "stdout",
     "output_type": "stream",
     "text": [
      "\n",
      "\n",
      "2097.02\n",
      "3654.02\n",
      "1536.02\n",
      "3919.64\n",
      "3681.39\n",
      "1694.42\n",
      "1214.1\n",
      "2930.31\n",
      "1944.15\n",
      "2839.22\n",
      "2467.31\n",
      "3304.99\n",
      "3844.42\n",
      "3594.99\n",
      "2940.24\n",
      "3062.41\n",
      "3067.82\n",
      "2646.76\n",
      "2227.79\n",
      "\n",
      "\n",
      "\n",
      "\n",
      "Average Balance\n"
     ]
    },
    {
     "data": {
      "text/plain": [
       "2771.95"
      ]
     },
     "execution_count": 236,
     "metadata": {},
     "output_type": "execute_result"
    }
   ],
   "source": [
    "#     3c. Average balance per user\n",
    "import statistics as st\n",
    "\n",
    "balances=[]\n",
    "for f,g in enumerate(json_file):\n",
    "    balances.append(no_commas(json_file[f]['balance']))\n",
    "\n",
    "print(\"\\n\")\n",
    "for f in balances:\n",
    "    print(f)\n",
    "print(\"\\n\")\n",
    "sum(balances)\n",
    "print(\"\\n\")\n",
    "print(\"Average Balance\")\n",
    "round(st.mean(balances),2)"
   ]
  },
  {
   "cell_type": "code",
   "execution_count": 245,
   "id": "3368e149",
   "metadata": {},
   "outputs": [
    {
     "ename": "SyntaxError",
     "evalue": "invalid syntax (1555606529.py, line 6)",
     "output_type": "error",
     "traceback": [
      "\u001b[0;36m  Input \u001b[0;32mIn [245]\u001b[0;36m\u001b[0m\n\u001b[0;31m    print(f\"lowest balance {min(balances)}\":2f)\u001b[0m\n\u001b[0m                                           ^\u001b[0m\n\u001b[0;31mSyntaxError\u001b[0m\u001b[0;31m:\u001b[0m invalid syntax\n"
     ]
    }
   ],
   "source": [
    "#     3d. User with the lowest balance\n",
    "\n",
    "balances2 = [x['balance'] for x in json_file]\n",
    "\n",
    "print(\"\\n\")\n",
    "print(f\"lowest balance {min(balances)}\":2f)\n",
    "min(balances)"
   ]
  },
  {
   "cell_type": "code",
   "execution_count": null,
   "id": "b6d05eb9",
   "metadata": {},
   "outputs": [],
   "source": [
    "#     3e. User with the highest balance\n",
    "print(\"\\n\")\n",
    "print(\"highest balance\")\n",
    "min(balances)"
   ]
  },
  {
   "cell_type": "code",
   "execution_count": null,
   "id": "80d1472b",
   "metadata": {},
   "outputs": [],
   "source": [
    "#     3f. Most common favorite fruit\n",
    "\n",
    "fruits=[]\n",
    "for f,g in enumerate(json_file):\n",
    "    fruits.append(json_file[f]['favoriteFruit'])\n",
    "    \n",
    "print(\"\\n\")\n",
    "print(\"favorite fruit\")\n",
    "max(fruits)"
   ]
  },
  {
   "cell_type": "code",
   "execution_count": 223,
   "id": "7a728c65",
   "metadata": {},
   "outputs": [
    {
     "name": "stdout",
     "output_type": "stream",
     "text": [
      "\n",
      "\n",
      "least favorite fruit\n"
     ]
    },
    {
     "data": {
      "text/plain": [
       "'apple'"
      ]
     },
     "execution_count": 223,
     "metadata": {},
     "output_type": "execute_result"
    }
   ],
   "source": [
    "#     3g. Least most common favorite fruit\n",
    "\n",
    "fruits=[]\n",
    "for f,g in enumerate(json_file):\n",
    "    fruits.append(json_file[f]['favoriteFruit'])\n",
    "\n",
    "print(\"\\n\")\n",
    "print(\"least favorite fruit\")\n",
    "min(fruits)"
   ]
  },
  {
   "cell_type": "code",
   "execution_count": 225,
   "id": "8f21a685",
   "metadata": {},
   "outputs": [
    {
     "name": "stdout",
     "output_type": "stream",
     "text": [
      "\n",
      "\n",
      "Unread Messages\n",
      "210\n"
     ]
    }
   ],
   "source": [
    "#     3h. Total number of unread messages for all users\n",
    "unread_messages=0\n",
    "\n",
    "for x in json_file:\n",
    "    if x['greeting'].find(\"unread\") != -1:\n",
    "       #print(x['greeting'])\n",
    "        cleaner = x['greeting'].split('You have ')\n",
    "        cleaner = cleaner[1].split(' unread messages.')\n",
    "        #print(cleaner[0])\n",
    "        unread_messages+=int(cleaner[0])\n",
    "    else:\n",
    "        print(\"non found\")\n",
    "\n",
    "print(\"\\n\")\n",
    "print(\"Unread Messages\")\n",
    "print(unread_messages)\n"
   ]
  }
 ],
 "metadata": {
  "kernelspec": {
   "display_name": "Python 3 (ipykernel)",
   "language": "python",
   "name": "python3"
  },
  "language_info": {
   "codemirror_mode": {
    "name": "ipython",
    "version": 3
   },
   "file_extension": ".py",
   "mimetype": "text/x-python",
   "name": "python",
   "nbconvert_exporter": "python",
   "pygments_lexer": "ipython3",
   "version": "3.9.13"
  }
 },
 "nbformat": 4,
 "nbformat_minor": 5
}
