{
 "cells": [
  {
   "cell_type": "code",
   "execution_count": 24,
   "id": "330ebee4",
   "metadata": {},
   "outputs": [
    {
     "data": {
      "text/plain": [
       "'parr'"
      ]
     },
     "execution_count": 24,
     "metadata": {},
     "output_type": "execute_result"
    }
   ],
   "source": [
    "def get_last(last_name,character_amount,capitalize,position):\n",
    "    '''\n",
    "        accepts a string representing a last name and returns a string\n",
    "        formatted by a specifications such as:\n",
    "    \n",
    "        string character_amount = length amount of return statement\n",
    "            ie: aaa (character_amount=3)\n",
    "        \n",
    "        boolean capitalize = True or False \n",
    "            ie: AAA or aaa\n",
    "    \n",
    "        string position = beginning, middle, or end\n",
    "            ie: \n",
    "                character_amount = 3, capitalize = True\n",
    "        \n",
    "                \"Martinez\"\n",
    "                begginning = MAR\n",
    "                middle = ????\n",
    "                end = NEZ\n",
    "        \n",
    "        SAMPLE:\n",
    "        get_last(last_name, 4, False, \"beginning\")\n",
    "    '''\n",
    "\n",
    "    while position == \"beginning\":\n",
    "        if capitalize == False:\n",
    "            last_name = last_name[:(character_amount)].lower()\n",
    "        else:\n",
    "            last_name = last_name[:(character_amount)].upper()\n",
    "    \n",
    "        return last_name\n",
    "    else:\n",
    "        print(\"Under Construction\")\n",
    "        \n",
    "# SAMPLE\n",
    "get_last(last_name, 4, False, \"beginning\")"
   ]
  },
  {
   "cell_type": "code",
   "execution_count": 25,
   "id": "4f865e33",
   "metadata": {},
   "outputs": [
    {
     "name": "stdout",
     "output_type": "stream",
     "text": [
      "Under Construction\n"
     ]
    }
   ],
   "source": [
    "get_last(\"herrick\", 3, 2,1)"
   ]
  },
  {
   "cell_type": "code",
   "execution_count": 40,
   "id": "dc8ca60b",
   "metadata": {},
   "outputs": [
    {
     "ename": "KeyboardInterrupt",
     "evalue": "Interrupted by user",
     "output_type": "error",
     "traceback": [
      "\u001b[0;31m---------------------------------------------------------------------------\u001b[0m",
      "\u001b[0;31mKeyboardInterrupt\u001b[0m                         Traceback (most recent call last)",
      "Input \u001b[0;32mIn [40]\u001b[0m, in \u001b[0;36m<cell line: 26>\u001b[0;34m()\u001b[0m\n\u001b[1;32m     23\u001b[0m                 \u001b[38;5;28mprint\u001b[39m(\u001b[38;5;124m'\u001b[39m\u001b[38;5;124mOops!  That was not a number.  Try again...\u001b[39m\u001b[38;5;124m'\u001b[39m)\n\u001b[1;32m     25\u001b[0m     \u001b[38;5;28;01mreturn\u001b[39;00m b_date\n\u001b[0;32m---> 26\u001b[0m \u001b[43mbirth_date\u001b[49m\u001b[43m(\u001b[49m\u001b[43m)\u001b[49m\n",
      "Input \u001b[0;32mIn [40]\u001b[0m, in \u001b[0;36mbirth_date\u001b[0;34m()\u001b[0m\n\u001b[1;32m      6\u001b[0m \u001b[38;5;28;01mwhile\u001b[39;00m \u001b[38;5;28;01mTrue\u001b[39;00m:\n\u001b[1;32m      7\u001b[0m         \u001b[38;5;28;01mtry\u001b[39;00m:\n\u001b[0;32m----> 8\u001b[0m             day \u001b[38;5;241m=\u001b[39m \u001b[38;5;28;43minput\u001b[39;49m\u001b[43m(\u001b[49m\u001b[38;5;124;43m'\u001b[39;49m\u001b[38;5;124;43mPlease enter the day (DD) you were born: \u001b[39;49m\u001b[38;5;124;43m'\u001b[39;49m\u001b[43m)\u001b[49m\n\u001b[1;32m      9\u001b[0m             month \u001b[38;5;241m=\u001b[39m \u001b[38;5;28minput\u001b[39m(\u001b[38;5;124m'\u001b[39m\u001b[38;5;124mPlease enter the month (MM) you were born: \u001b[39m\u001b[38;5;124m'\u001b[39m)\n\u001b[1;32m     10\u001b[0m             year \u001b[38;5;241m=\u001b[39m \u001b[38;5;28minput\u001b[39m(\u001b[38;5;124m'\u001b[39m\u001b[38;5;124mPlease enter the year (YYYY) you were born: \u001b[39m\u001b[38;5;124m'\u001b[39m)\n",
      "File \u001b[0;32m/opt/homebrew/anaconda3/lib/python3.9/site-packages/ipykernel/kernelbase.py:1177\u001b[0m, in \u001b[0;36mKernel.raw_input\u001b[0;34m(self, prompt)\u001b[0m\n\u001b[1;32m   1173\u001b[0m \u001b[38;5;28;01mif\u001b[39;00m \u001b[38;5;129;01mnot\u001b[39;00m \u001b[38;5;28mself\u001b[39m\u001b[38;5;241m.\u001b[39m_allow_stdin:\n\u001b[1;32m   1174\u001b[0m     \u001b[38;5;28;01mraise\u001b[39;00m StdinNotImplementedError(\n\u001b[1;32m   1175\u001b[0m         \u001b[38;5;124m\"\u001b[39m\u001b[38;5;124mraw_input was called, but this frontend does not support input requests.\u001b[39m\u001b[38;5;124m\"\u001b[39m\n\u001b[1;32m   1176\u001b[0m     )\n\u001b[0;32m-> 1177\u001b[0m \u001b[38;5;28;01mreturn\u001b[39;00m \u001b[38;5;28;43mself\u001b[39;49m\u001b[38;5;241;43m.\u001b[39;49m\u001b[43m_input_request\u001b[49m\u001b[43m(\u001b[49m\n\u001b[1;32m   1178\u001b[0m \u001b[43m    \u001b[49m\u001b[38;5;28;43mstr\u001b[39;49m\u001b[43m(\u001b[49m\u001b[43mprompt\u001b[49m\u001b[43m)\u001b[49m\u001b[43m,\u001b[49m\n\u001b[1;32m   1179\u001b[0m \u001b[43m    \u001b[49m\u001b[38;5;28;43mself\u001b[39;49m\u001b[38;5;241;43m.\u001b[39;49m\u001b[43m_parent_ident\u001b[49m\u001b[43m[\u001b[49m\u001b[38;5;124;43m\"\u001b[39;49m\u001b[38;5;124;43mshell\u001b[39;49m\u001b[38;5;124;43m\"\u001b[39;49m\u001b[43m]\u001b[49m\u001b[43m,\u001b[49m\n\u001b[1;32m   1180\u001b[0m \u001b[43m    \u001b[49m\u001b[38;5;28;43mself\u001b[39;49m\u001b[38;5;241;43m.\u001b[39;49m\u001b[43mget_parent\u001b[49m\u001b[43m(\u001b[49m\u001b[38;5;124;43m\"\u001b[39;49m\u001b[38;5;124;43mshell\u001b[39;49m\u001b[38;5;124;43m\"\u001b[39;49m\u001b[43m)\u001b[49m\u001b[43m,\u001b[49m\n\u001b[1;32m   1181\u001b[0m \u001b[43m    \u001b[49m\u001b[43mpassword\u001b[49m\u001b[38;5;241;43m=\u001b[39;49m\u001b[38;5;28;43;01mFalse\u001b[39;49;00m\u001b[43m,\u001b[49m\n\u001b[1;32m   1182\u001b[0m \u001b[43m\u001b[49m\u001b[43m)\u001b[49m\n",
      "File \u001b[0;32m/opt/homebrew/anaconda3/lib/python3.9/site-packages/ipykernel/kernelbase.py:1219\u001b[0m, in \u001b[0;36mKernel._input_request\u001b[0;34m(self, prompt, ident, parent, password)\u001b[0m\n\u001b[1;32m   1216\u001b[0m             \u001b[38;5;28;01mbreak\u001b[39;00m\n\u001b[1;32m   1217\u001b[0m \u001b[38;5;28;01mexcept\u001b[39;00m \u001b[38;5;167;01mKeyboardInterrupt\u001b[39;00m:\n\u001b[1;32m   1218\u001b[0m     \u001b[38;5;66;03m# re-raise KeyboardInterrupt, to truncate traceback\u001b[39;00m\n\u001b[0;32m-> 1219\u001b[0m     \u001b[38;5;28;01mraise\u001b[39;00m \u001b[38;5;167;01mKeyboardInterrupt\u001b[39;00m(\u001b[38;5;124m\"\u001b[39m\u001b[38;5;124mInterrupted by user\u001b[39m\u001b[38;5;124m\"\u001b[39m) \u001b[38;5;28;01mfrom\u001b[39;00m \u001b[38;5;28mNone\u001b[39m\n\u001b[1;32m   1220\u001b[0m \u001b[38;5;28;01mexcept\u001b[39;00m \u001b[38;5;167;01mException\u001b[39;00m:\n\u001b[1;32m   1221\u001b[0m     \u001b[38;5;28mself\u001b[39m\u001b[38;5;241m.\u001b[39mlog\u001b[38;5;241m.\u001b[39mwarning(\u001b[38;5;124m\"\u001b[39m\u001b[38;5;124mInvalid Message:\u001b[39m\u001b[38;5;124m\"\u001b[39m, exc_info\u001b[38;5;241m=\u001b[39m\u001b[38;5;28;01mTrue\u001b[39;00m)\n",
      "\u001b[0;31mKeyboardInterrupt\u001b[0m: Interrupted by user"
     ]
    }
   ],
   "source": [
    "def birth_date():\n",
    "    '''This function takes input for the birth date and outputs it in the desired format.'''\n",
    "    from datetime import date\n",
    "    current_year = date.today().year\n",
    "    \n",
    "    while True:\n",
    "            try:\n",
    "                day = input('Please enter the day (DD) you were born: ')\n",
    "                month = input('Please enter the month (MM) you were born: ')\n",
    "                year = input('Please enter the year (YYYY) you were born: ')\n",
    "                \n",
    "                if 0 < int(day) <= 31 and 0 < int(month) <= 12 and 0 < int(year) <= current_year:\n",
    "                    b_date = ''\n",
    "                    b_date = str(month) + '-' + str(day) +'-'+ str(year)\n",
    "                    loop_exit = input('Is your birthday (y/n?): ' + b_date)\n",
    "                    \n",
    "                    if loop_exit.lower() == 'y' or loop_exit.lower == 'yes':\n",
    "                        break\n",
    "                else:\n",
    "                    print('You entered invalid numbers. Try again...')\n",
    "                    \n",
    "            except ValueError:\n",
    "                print('Oops!  That was not a number.  Try again...')\n",
    "                \n",
    "    return b_date\n",
    "birth_date()"
   ]
  },
  {
   "cell_type": "code",
   "execution_count": 41,
   "id": "cc1ff259",
   "metadata": {},
   "outputs": [
    {
     "data": {
      "text/plain": [
       "'parr'"
      ]
     },
     "execution_count": 41,
     "metadata": {},
     "output_type": "execute_result"
    }
   ],
   "source": [
    "def get_last(last_name,character_amount,capitalize,position):\n",
    "    '''\n",
    "        accepts a string representing a last name and returns a string\n",
    "        formatted by a specifications such as:\n",
    "    \n",
    "        string character_amount = length amount of return statement\n",
    "            ie: aaa (character_amount=3)\n",
    "        \n",
    "        boolean capitalize = True or False \n",
    "            ie: AAA or aaa\n",
    "    \n",
    "        string position = beginning, middle, or end\n",
    "            ie: \n",
    "                character_amount = 3, capitalize = True\n",
    "        \n",
    "                \"Martinez\"\n",
    "                begginning = MAR\n",
    "                middle = ????\n",
    "                end = NEZ\n",
    "        \n",
    "        SAMPLE:\n",
    "        get_last(last_name, 4, False, \"beginning\")\n",
    "    '''\n",
    "\n",
    "    while position == \"beginning\":\n",
    "        if capitalize == False:\n",
    "            last_name = last_name[:(character_amount)].lower()\n",
    "        else:\n",
    "            last_name = last_name[:(character_amount)].upper()\n",
    "    \n",
    "        return last_name\n",
    "    else:\n",
    "        print(\"Under Construction\")\n",
    "        \n",
    "# SAMPLE\n",
    "get_last(last_name, 4, False, \"beginning\")"
   ]
  },
  {
   "cell_type": "code",
   "execution_count": null,
   "id": "5ed2677a",
   "metadata": {},
   "outputs": [],
   "source": [
    "def get_last(last_name,character_amount,capitalize,position):\n",
    "    '''\n",
    "        accepts a string representing a last name and returns a string\n",
    "        formatted by a specifications such as:\n",
    "    \n",
    "        string character_amount = length amount of return statement\n",
    "            ie: aaa (character_amount=3)\n",
    "        \n",
    "        boolean capitalize = True or False \n",
    "            ie: AAA or aaa\n",
    "    \n",
    "        string position = beginning, middle, or end\n",
    "            ie: \n",
    "                character_amount = 3, capitalize = True\n",
    "        \n",
    "                \"Martinez\"\n",
    "                begginning = MAR\n",
    "                middle = ????\n",
    "                end = NEZ\n",
    "        \n",
    "        SAMPLE:\n",
    "        get_last(last_name, 4, False, \"beginning\")\n",
    "    '''\n",
    "\n",
    "    while position == \"beginning\":\n",
    "        if capitalize == False:\n",
    "            last_name = last_name[:(character_amount)].lower()\n",
    "        else:\n",
    "            last_name = last_name[:(character_amount)].upper()\n",
    "    \n",
    "        return last_name\n",
    "    else:\n",
    "        print(\"Under Construction\")\n",
    "        \n",
    "# SAMPLE\n",
    "last_name = \"Parra\"\n",
    "get_last(last_name, 4, False, \"beginning\")"
   ]
  },
  {
   "cell_type": "markdown",
   "id": "5d290164",
   "metadata": {},
   "source": [
    "# MVP - My Last Name Function"
   ]
  },
  {
   "cell_type": "code",
   "execution_count": 47,
   "id": "9a58519b",
   "metadata": {},
   "outputs": [
    {
     "name": "stdout",
     "output_type": "stream",
     "text": [
      "Enter Last Name: Parra\n"
     ]
    },
    {
     "data": {
      "text/plain": [
       "'parr'"
      ]
     },
     "execution_count": 47,
     "metadata": {},
     "output_type": "execute_result"
    }
   ],
   "source": [
    "def get_last():\n",
    "\n",
    "    a last_name=input(\"Enter Last Name: \")\n",
    "    last_name = last_name[:4].lower()\n",
    "    return last_name\n",
    "\n",
    "get_last()"
   ]
  },
  {
   "cell_type": "markdown",
   "id": "37f09978",
   "metadata": {},
   "source": [
    "# 1st Deliverable"
   ]
  },
  {
   "cell_type": "code",
   "execution_count": 50,
   "id": "90ba26a0",
   "metadata": {},
   "outputs": [
    {
     "name": "stdout",
     "output_type": "stream",
     "text": [
      "Enter your first name here: Manuel\n",
      "Enter Last Name: Parra\n",
      "Please enter the day (DD) you were born: 29\n",
      "Please enter the month (MM) you were born: 06\n",
      "Please enter the year (YYYY) you were born: 29\n",
      "You entered invalid numbers. Try again...\n",
      "Please enter the day (DD) you were born: \n",
      "Oops!  That was not a number.  Try again...\n",
      "Please enter the day (DD) you were born: 29\n",
      "Please enter the month (MM) you were born: 06\n",
      "Please enter the year (YYYY) you were born: 1987\n",
      "Is your birthday (y/n?): 6-29-1987y\n"
     ]
    },
    {
     "data": {
      "text/plain": [
       "'maparr87'"
      ]
     },
     "execution_count": 50,
     "metadata": {},
     "output_type": "execute_result"
    }
   ],
   "source": [
    "#Inputs to take in the first and last names\n",
    "\n",
    "first_name = input(\"Enter your first name here: \")\n",
    "\n",
    "last_name = input(\"Enter Last Name: \")\n",
    "\n",
    "#Function to get first two letters of first name\n",
    "\n",
    "def first(fn):\n",
    "    \n",
    "    '''Uses slicing to collect the first two letters in the first name, lowercases, and strips them'''\n",
    "    \n",
    "    fn = first_name[:2]\n",
    "    return fn.lower().strip()\n",
    "\n",
    "#Function to get the first four of the last name\n",
    "\n",
    "def last(ln):\n",
    "    \n",
    "    '''Same as above, collects first four of last name, lowercases them, and strips them'''\n",
    "    \n",
    "    ln = last_name[:4]\n",
    "    return ln.lower().strip()\n",
    "\n",
    "\n",
    "def user_name(fn, ln):\n",
    "    \n",
    "    username = fn + ln\n",
    "    return username\n",
    "\n",
    "def birth_date():\n",
    "    \"\"\"This function takes input for the birth date and outputs it in the desired format.\"\"\"\n",
    "    from datetime import date\n",
    "    current_year = date.today().year\n",
    "    #While loop for user input.\n",
    "    while True:\n",
    "            try:\n",
    "                #Int is used for easier input verification.\n",
    "                day = int(input('Please enter the day (DD) you were born: '))\n",
    "                month = int(input('Please enter the month (MM) you were born: '))\n",
    "                year = int(input('Please enter the year (YYYY) you were born: '))\n",
    "                #Getting through the two if statements is the only way to exit the while loop.\n",
    "                if 0 < day <= 31 and 0 < month <= 12 and 1800 < year <= current_year:\n",
    "                    b_day = str(day)\n",
    "                    b_month = str(month)\n",
    "                    b_year = str(year)\n",
    "                    b_date =  b_month + '-' + b_day + '-' + b_year\n",
    "                    loop_exit = input('Is your birthday (y/n?): '+ b_date)\n",
    "                    if loop_exit.lower() == 'y' or loop_exit.lower == 'yes':\n",
    "                        #This is the only loop exit.\n",
    "                        break\n",
    "                else:\n",
    "                    print('You entered invalid numbers. Try again...')\n",
    "            #Exception handling for when the user enters a non-number char for int input.\n",
    "            except ValueError:\n",
    "                print('Oops!  That was not a number.  Try again...')\n",
    "    return b_date\n",
    "\n",
    "########\n",
    "\n",
    "def user_name (first_name, last_name, birth_date):\n",
    "    user_name = first_name[:3] + last_name[:4] + birth_date[-2:]\n",
    "    return user_name\n",
    "\n",
    "def new_user():\n",
    "    first_name = first_name()\n",
    "    last_name = last_name()\n",
    "    birth_date = birth_date()\n",
    "    user_name = user_name(first_name,last_name,birth_date)\n",
    "    \n",
    "user_name(first(first_name), last(last_name), birth_date())"
   ]
  },
  {
   "cell_type": "code",
   "execution_count": null,
   "id": "63608315",
   "metadata": {},
   "outputs": [],
   "source": []
  }
 ],
 "metadata": {
  "kernelspec": {
   "display_name": "Python 3 (ipykernel)",
   "language": "python",
   "name": "python3"
  },
  "language_info": {
   "codemirror_mode": {
    "name": "ipython",
    "version": 3
   },
   "file_extension": ".py",
   "mimetype": "text/x-python",
   "name": "python",
   "nbconvert_exporter": "python",
   "pygments_lexer": "ipython3",
   "version": "3.9.13"
  }
 },
 "nbformat": 4,
 "nbformat_minor": 5
}
